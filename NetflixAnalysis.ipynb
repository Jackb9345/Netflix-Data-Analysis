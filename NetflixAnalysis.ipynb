{
 "cells": [
  {
   "cell_type": "markdown",
   "id": "ad9abff8-303b-490a-a5e3-abae4d6846bb",
   "metadata": {},
   "source": [
    "Analysis of my Netflix Data Using Pandas in Jupyter"
   ]
  },
  {
   "cell_type": "code",
   "execution_count": null,
   "id": "f2b167f3-7d73-47f2-a517-200def09a050",
   "metadata": {},
   "outputs": [],
   "source": [
    "import pandas as pd"
   ]
  },
  {
   "cell_type": "code",
   "execution_count": 53,
   "id": "0f4b8e48-dd1c-473b-85a9-36348dd811c5",
   "metadata": {
    "tags": []
   },
   "outputs": [],
   "source": [
    "df = pd.read_csv('/Users/jacko/Desktop/netflix data/ViewingActivity.csv')"
   ]
  },
  {
   "cell_type": "code",
   "execution_count": 54,
   "id": "29432e6e-9e76-4717-813d-d3b1d7a37826",
   "metadata": {},
   "outputs": [
    {
     "data": {
      "text/html": [
       "<div>\n",
       "<style scoped>\n",
       "    .dataframe tbody tr th:only-of-type {\n",
       "        vertical-align: middle;\n",
       "    }\n",
       "\n",
       "    .dataframe tbody tr th {\n",
       "        vertical-align: top;\n",
       "    }\n",
       "\n",
       "    .dataframe thead th {\n",
       "        text-align: right;\n",
       "    }\n",
       "</style>\n",
       "<table border=\"1\" class=\"dataframe\">\n",
       "  <thead>\n",
       "    <tr style=\"text-align: right;\">\n",
       "      <th></th>\n",
       "      <th>Profile Name</th>\n",
       "      <th>Start Time</th>\n",
       "      <th>Duration</th>\n",
       "      <th>Attributes</th>\n",
       "      <th>Title</th>\n",
       "      <th>Supplemental Video Type</th>\n",
       "      <th>Device Type</th>\n",
       "      <th>Bookmark</th>\n",
       "      <th>Latest Bookmark</th>\n",
       "      <th>Country</th>\n",
       "    </tr>\n",
       "  </thead>\n",
       "  <tbody>\n",
       "    <tr>\n",
       "      <th>0</th>\n",
       "      <td>jackb9345</td>\n",
       "      <td>2022-08-10 00:10:44</td>\n",
       "      <td>00:12:23</td>\n",
       "      <td>Autoplayed: user action: None;</td>\n",
       "      <td>Rick and Morty: Season 3: Rickmancing the Ston...</td>\n",
       "      <td>NaN</td>\n",
       "      <td>Chrome PC (Cadmium)</td>\n",
       "      <td>00:12:31</td>\n",
       "      <td>00:12:31</td>\n",
       "      <td>GB (United Kingdom)</td>\n",
       "    </tr>\n",
       "  </tbody>\n",
       "</table>\n",
       "</div>"
      ],
      "text/plain": [
       "  Profile Name           Start Time  Duration  \\\n",
       "0    jackb9345  2022-08-10 00:10:44  00:12:23   \n",
       "\n",
       "                        Attributes  \\\n",
       "0  Autoplayed: user action: None;    \n",
       "\n",
       "                                               Title Supplemental Video Type  \\\n",
       "0  Rick and Morty: Season 3: Rickmancing the Ston...                     NaN   \n",
       "\n",
       "           Device Type  Bookmark Latest Bookmark              Country  \n",
       "0  Chrome PC (Cadmium)  00:12:31        00:12:31  GB (United Kingdom)  "
      ]
     },
     "execution_count": 54,
     "metadata": {},
     "output_type": "execute_result"
    }
   ],
   "source": [
    "df.head(1)"
   ]
  },
  {
   "cell_type": "code",
   "execution_count": 55,
   "id": "398d5e06-548c-49c8-a2ed-48b62625b804",
   "metadata": {},
   "outputs": [
    {
     "data": {
      "text/html": [
       "<div>\n",
       "<style scoped>\n",
       "    .dataframe tbody tr th:only-of-type {\n",
       "        vertical-align: middle;\n",
       "    }\n",
       "\n",
       "    .dataframe tbody tr th {\n",
       "        vertical-align: top;\n",
       "    }\n",
       "\n",
       "    .dataframe thead th {\n",
       "        text-align: right;\n",
       "    }\n",
       "</style>\n",
       "<table border=\"1\" class=\"dataframe\">\n",
       "  <thead>\n",
       "    <tr style=\"text-align: right;\">\n",
       "      <th></th>\n",
       "      <th>Start Time</th>\n",
       "      <th>Duration</th>\n",
       "      <th>Title</th>\n",
       "    </tr>\n",
       "  </thead>\n",
       "  <tbody>\n",
       "    <tr>\n",
       "      <th>0</th>\n",
       "      <td>2022-08-10 00:10:44</td>\n",
       "      <td>00:12:23</td>\n",
       "      <td>Rick and Morty: Season 3: Rickmancing the Ston...</td>\n",
       "    </tr>\n",
       "  </tbody>\n",
       "</table>\n",
       "</div>"
      ],
      "text/plain": [
       "            Start Time  Duration  \\\n",
       "0  2022-08-10 00:10:44  00:12:23   \n",
       "\n",
       "                                               Title  \n",
       "0  Rick and Morty: Season 3: Rickmancing the Ston...  "
      ]
     },
     "execution_count": 55,
     "metadata": {},
     "output_type": "execute_result"
    }
   ],
   "source": [
    "df = df.drop(['Profile Name', 'Attributes', 'Supplemental Video Type', 'Device Type', 'Bookmark', 'Latest Bookmark', 'Country'], axis=1)\n",
    "df.head(1)"
   ]
  },
  {
   "cell_type": "code",
   "execution_count": 56,
   "id": "acc14e65-3827-4fde-b911-ee3bc3b9671e",
   "metadata": {},
   "outputs": [
    {
     "data": {
      "text/plain": [
       "Start Time    object\n",
       "Duration      object\n",
       "Title         object\n",
       "dtype: object"
      ]
     },
     "execution_count": 56,
     "metadata": {},
     "output_type": "execute_result"
    }
   ],
   "source": [
    "df.dtypes"
   ]
  },
  {
   "cell_type": "code",
   "execution_count": 57,
   "id": "d4d420a0-e109-4d51-aff2-ea6cda7d8d03",
   "metadata": {},
   "outputs": [
    {
     "data": {
      "text/html": [
       "<div>\n",
       "<style scoped>\n",
       "    .dataframe tbody tr th:only-of-type {\n",
       "        vertical-align: middle;\n",
       "    }\n",
       "\n",
       "    .dataframe tbody tr th {\n",
       "        vertical-align: top;\n",
       "    }\n",
       "\n",
       "    .dataframe thead th {\n",
       "        text-align: right;\n",
       "    }\n",
       "</style>\n",
       "<table border=\"1\" class=\"dataframe\">\n",
       "  <thead>\n",
       "    <tr style=\"text-align: right;\">\n",
       "      <th></th>\n",
       "      <th>Start Time</th>\n",
       "      <th>Duration</th>\n",
       "      <th>Title</th>\n",
       "    </tr>\n",
       "  </thead>\n",
       "  <tbody>\n",
       "    <tr>\n",
       "      <th>0</th>\n",
       "      <td>2022-08-10 00:10:44</td>\n",
       "      <td>00:12:23</td>\n",
       "      <td>Rick and Morty: Season 3: Rickmancing the Ston...</td>\n",
       "    </tr>\n",
       "    <tr>\n",
       "      <th>1</th>\n",
       "      <td>2022-08-09 23:51:30</td>\n",
       "      <td>00:19:13</td>\n",
       "      <td>Rick and Morty: Season 3: The Rickshank Rickde...</td>\n",
       "    </tr>\n",
       "    <tr>\n",
       "      <th>4</th>\n",
       "      <td>2022-08-09 21:41:31</td>\n",
       "      <td>00:04:05</td>\n",
       "      <td>Rick and Morty: Season 3: The Rickshank Rickde...</td>\n",
       "    </tr>\n",
       "    <tr>\n",
       "      <th>5</th>\n",
       "      <td>2022-08-09 21:16:23</td>\n",
       "      <td>00:23:01</td>\n",
       "      <td>Rick and Morty: Season 2: The Wedding Squanche...</td>\n",
       "    </tr>\n",
       "    <tr>\n",
       "      <th>6</th>\n",
       "      <td>2022-08-09 20:32:53</td>\n",
       "      <td>00:22:02</td>\n",
       "      <td>Rick and Morty: Season 2: Look Who's Purging N...</td>\n",
       "    </tr>\n",
       "    <tr>\n",
       "      <th>7</th>\n",
       "      <td>2022-08-09 20:12:23</td>\n",
       "      <td>00:20:28</td>\n",
       "      <td>Rick and Morty: Season 2: Interdimensional Cab...</td>\n",
       "    </tr>\n",
       "    <tr>\n",
       "      <th>10</th>\n",
       "      <td>2022-08-09 18:20:23</td>\n",
       "      <td>00:01:59</td>\n",
       "      <td>Rick and Morty: Season 2: Interdimensional Cab...</td>\n",
       "    </tr>\n",
       "    <tr>\n",
       "      <th>11</th>\n",
       "      <td>2022-08-09 18:09:24</td>\n",
       "      <td>00:10:57</td>\n",
       "      <td>Rick and Morty: Season 2: Big Trouble in Littl...</td>\n",
       "    </tr>\n",
       "    <tr>\n",
       "      <th>20</th>\n",
       "      <td>2022-08-08 21:41:48</td>\n",
       "      <td>00:10:18</td>\n",
       "      <td>Rick and Morty: Season 2: Big Trouble in Littl...</td>\n",
       "    </tr>\n",
       "    <tr>\n",
       "      <th>22</th>\n",
       "      <td>2022-08-08 18:29:52</td>\n",
       "      <td>00:01:07</td>\n",
       "      <td>Rick and Morty: Season 2: Big Trouble in Littl...</td>\n",
       "    </tr>\n",
       "  </tbody>\n",
       "</table>\n",
       "</div>"
      ],
      "text/plain": [
       "             Start Time  Duration  \\\n",
       "0   2022-08-10 00:10:44  00:12:23   \n",
       "1   2022-08-09 23:51:30  00:19:13   \n",
       "4   2022-08-09 21:41:31  00:04:05   \n",
       "5   2022-08-09 21:16:23  00:23:01   \n",
       "6   2022-08-09 20:32:53  00:22:02   \n",
       "7   2022-08-09 20:12:23  00:20:28   \n",
       "10  2022-08-09 18:20:23  00:01:59   \n",
       "11  2022-08-09 18:09:24  00:10:57   \n",
       "20  2022-08-08 21:41:48  00:10:18   \n",
       "22  2022-08-08 18:29:52  00:01:07   \n",
       "\n",
       "                                                Title  \n",
       "0   Rick and Morty: Season 3: Rickmancing the Ston...  \n",
       "1   Rick and Morty: Season 3: The Rickshank Rickde...  \n",
       "4   Rick and Morty: Season 3: The Rickshank Rickde...  \n",
       "5   Rick and Morty: Season 2: The Wedding Squanche...  \n",
       "6   Rick and Morty: Season 2: Look Who's Purging N...  \n",
       "7   Rick and Morty: Season 2: Interdimensional Cab...  \n",
       "10  Rick and Morty: Season 2: Interdimensional Cab...  \n",
       "11  Rick and Morty: Season 2: Big Trouble in Littl...  \n",
       "20  Rick and Morty: Season 2: Big Trouble in Littl...  \n",
       "22  Rick and Morty: Season 2: Big Trouble in Littl...  "
      ]
     },
     "execution_count": 57,
     "metadata": {},
     "output_type": "execute_result"
    }
   ],
   "source": [
    "office = df[df['Title'].str.contains('Rick and Morty', regex=False)]\n",
    "office.head(10)"
   ]
  },
  {
   "cell_type": "code",
   "execution_count": 58,
   "id": "8faae31d-c309-4a10-a87e-9b2c7b704556",
   "metadata": {},
   "outputs": [
    {
     "data": {
      "text/plain": [
       "(322, 3)"
      ]
     },
     "execution_count": 58,
     "metadata": {},
     "output_type": "execute_result"
    }
   ],
   "source": [
    "office.shape"
   ]
  },
  {
   "cell_type": "code",
   "execution_count": null,
   "id": "b3bc221d-769b-4bbb-8272-851a076b07b8",
   "metadata": {},
   "outputs": [],
   "source": []
  }
 ],
 "metadata": {
  "kernelspec": {
   "display_name": "Python 3 (ipykernel)",
   "language": "python",
   "name": "python3"
  },
  "language_info": {
   "codemirror_mode": {
    "name": "ipython",
    "version": 3
   },
   "file_extension": ".py",
   "mimetype": "text/x-python",
   "name": "python",
   "nbconvert_exporter": "python",
   "pygments_lexer": "ipython3",
   "version": "3.9.12"
  }
 },
 "nbformat": 4,
 "nbformat_minor": 5
}
